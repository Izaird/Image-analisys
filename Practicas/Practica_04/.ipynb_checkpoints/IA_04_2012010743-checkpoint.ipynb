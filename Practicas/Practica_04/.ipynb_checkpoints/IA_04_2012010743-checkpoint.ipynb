{
 "cells": [
  {
   "cell_type": "markdown",
   "metadata": {},
   "source": [
    "<img src=\"img/logo.jpg\" alt=\"header\" style=\"height:200px;\">\n",
    "<h1><center>Practica 4 Binary Mathematical Morphology</center></h1>\n",
    "<h3><b>Alumno:</b> Mothelet Delgado Izaird Alexander</h3>\n",
    "<h3><b>Boleta:</b> 2012010743</h3>\n",
    "<h3><b>Grupo:</b> 3CV7</h3>\n",
    "<h2><center><b>Introducción</b></center></h2>\n",
    "<h3><b>Suma</b></h3>"
   ]
  },
  {
   "cell_type": "code",
   "execution_count": 1,
   "metadata": {},
   "outputs": [],
   "source": [
    "import math\n",
    "import numpy as np\n",
    "from matplotlib import pyplot as plt\n",
    "from PIL import Image\n",
    "from skimage import io, color\n",
    "from skimage import exposure\n",
    "import pylab\n",
    "\n",
    "%matplotlib inline"
   ]
  },
  {
   "cell_type": "code",
   "execution_count": 78,
   "metadata": {},
   "outputs": [],
   "source": [
    "def dilation(image, mask):\n",
    "    output = image         # dilation output\n",
    "\n",
    "    for x in range(image.shape[1]-mask.shape[1]):     # Loop over every pixel of the image\n",
    "        for y in range(image.shape[0]-mask.shape[0]):\n",
    "            if image[y, x] == mask[0,0]:\n",
    "                output[y,x] = 255\n",
    "            else:\n",
    "                for xmask in range(mask.shape[1]):\n",
    "                    for ymask in range(mask.shape[0]):\n",
    "                        if image[y+ymask, x+xmask] ==  mask[ymask,xmask]:\n",
    "                            output[y,x] = 255\n",
    "    return output\n",
    "\n",
    "def erosion(image, mask):\n",
    "    output = image         # dilation output\n",
    "    alltrue = True\n",
    "\n",
    "    for x in range(image.shape[1]-mask.shape[1]):     # Loop over every pixel of the image\n",
    "        for y in range(image.shape[0]-mask.shape[0]):\n",
    "            \n",
    "            for xmask in range(mask.shape[1]):\n",
    "                for ymask in range(mask.shape[0]):\n",
    "                    if image[y+ymask, x+xmask] !=  mask[ymask,xmask]:\n",
    "                        alltrue= False\n",
    "            if alltrue == True:\n",
    "                 output[y,x] = 255\n",
    "            else: \n",
    "                 output[y,x] = 0\n",
    "            alltrue= True\n",
    "    return output"
   ]
  },
  {
   "cell_type": "code",
   "execution_count": 79,
   "metadata": {},
   "outputs": [
    {
     "data": {
      "image/png": "[encoded data removed]",
      "text/plain": [
       "<Figure size 432x288 with 1 Axes>"
      ]
     },
     "metadata": {
      "needs_background": "light"
     },
     "output_type": "display_data"
    },
    {
     "data": {
      "image/png": "[encoded data removed]",
      "text/plain": [
       "<Figure size 432x288 with 1 Axes>"
      ]
     },
     "metadata": {
      "needs_background": "light"
     },
     "output_type": "display_data"
    },
    {
     "data": {
      "text/plain": [
       "3"
      ]
     },
     "execution_count": 79,
     "metadata": {},
     "output_type": "execute_result"
    }
   ],
   "source": [
    "bin1=Image.open(\"img/bin4.png\").convert(\"L\") #Open the image and convert to gray scale \n",
    "bin2=Image.open(\"img/bin2.jpg\").convert(\"L\") #Open the image and convert to gray scale \n",
    "bin_arr1 = np.asarray(bin1,np.uint) #converts the image to an Numpy Array\n",
    "bin_arr2 = np.asarray(bin2,np.uint) #converts the image to an Numpy Array\n",
    "\n",
    "plt.imshow(bin_arr1,cmap=plt.cm.gray)\n",
    "plt.axis('off')\n",
    "plt.show()\n",
    "plt.imshow(bin_arr2,cmap=plt.cm.gray)\n",
    "plt.axis('off')\n",
    "plt.show()\n",
    "mask.shape[0]"
   ]
  },
  {
   "cell_type": "code",
   "execution_count": 81,
   "metadata": {},
   "outputs": [
    {
     "data": {
      "image/png": "[encoded data removed]",
      "text/plain": [
       "<Figure size 432x288 with 1 Axes>"
      ]
     },
     "metadata": {
      "needs_background": "light"
     },
     "output_type": "display_data"
    }
   ],
   "source": [
    "mask = np.array([[255,255,255],[255,255,255],[255,255,255]])\n",
    "new_image = erosion(bin_arr1, mask)\n",
    "new_image = dilation(new_image, mask)\n",
    "plt.imshow(new_image, cmap=plt.cm.gray)\n",
    "plt.axis('off')\n",
    "plt.show()"
   ]
  }
 ],
 "metadata": {
  "kernelspec": {
   "display_name": "Python 3",
   "language": "python",
   "name": "python3"
  },
  "language_info": {
   "codemirror_mode": {
    "name": "ipython",
    "version": 3
   },
   "file_extension": ".py",
   "mimetype": "text/x-python",
   "name": "python",
   "nbconvert_exporter": "python",
   "pygments_lexer": "ipython3",
   "version": "3.7.3"
  }
 },
 "nbformat": 4,
 "nbformat_minor": 4
}
