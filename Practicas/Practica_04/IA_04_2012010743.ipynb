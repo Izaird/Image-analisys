{
 "cells": [
  {
   "cell_type": "markdown",
   "metadata": {},
   "source": [
    "<img src=\"../img/logo.jpg\" alt=\"header\" style=\"height:200px;\">\n",
    "<h1><center>Practica 4 Binary Mathematical Morphology</center></h1>\n",
    "<h3><b>Alumno:</b> Mothelet Delgado Izaird Alexander</h3>\n",
    "<h3><b>Boleta:</b> 2012010743</h3>\n",
    "<h3><b>Grupo:</b> 3CV7</h3>\n",
    "<h2><center><b>Introducción</b></center></h2>\n",
    "<h3><b>Morfologia matematica</b></h3>\n",
    "<p align=\"justify\">Las operaciones morfológicas básicas, erosión y dilatación, producen resultados contrastantes cuando se aplican a imágenes en escala de grises o binarias. La erosión encoge los objetos de imagen mientras que la dilatación los expande. </p>\n",
    "\n",
    "<p align=\"justify\">Los operadores de morfología matemática son un conjunto de filtros locales sencillos, que se pueden combinar para obtener resultados más complejos.</p>\n",
    "\n",
    "<p align=\"justify\">Originalmente, están definidos sobre imágenes binarias.</p>\n",
    "\n",
    "<p align=\"justify\">La idea es muy parecida a una convolución, pero utilizando las operaciones booleanas AND y OR.</p>\n",
    "<img src=\"../img/morfo_00.png\">\n",
    "\n",
    "<p align=\"justify\">El elemento estructurante define los píxeles que se usan en la operación y los que no. Dado un elemento estructurante, E, de cierta forma y\n",
    "tamaño, y una imagen binaria B, se definen dos operaciones: </p>\n",
    "\n",
    "\n",
    "<h2 align=\"center\">Dilatación</h2>\n",
    "<img src=\"../img/morfo_01.png\">\n",
    "\n",
    "\n",
    "<p align=\"center\">\n",
    "Combinar con OR los valores correspondientes a los píxeles 1 del elemento estructurante.\n",
    " </p>\n",
    "    \n",
    "    \n",
    "<h2 align=\"center\">Erosión</h2>\n",
    "<img src=\"../img/morfo_02.png\">\n",
    "\n",
    "\n",
    "<p align=\"center\">\n",
    "Combinar con AND los valores correspondientes a los píxeles 1 del elemento estructurante.\n",
    " </p>\n",
    " \n",
    " \n",
    "<p align=\"center\">\n",
    "El efecto de la dilatación es extender o ampliar las regiones de la imagen con valor 1 (color blanco), mientras que la erosión las reduce. La cantidad depende del tamaño y forma del elemento estructurante y del número de veces que se aplican.\n",
    " </p>\n"
   ]
  },
  {
   "cell_type": "code",
   "execution_count": 1,
   "metadata": {},
   "outputs": [],
   "source": [
    "import math\n",
    "import numpy as np\n",
    "from matplotlib import pyplot as plt\n",
    "from PIL import Image\n",
    "from skimage import io, color\n",
    "from skimage import exposure\n",
    "import pylab\n",
    "\n",
    "%matplotlib inline"
   ]
  },
  {
   "cell_type": "code",
   "execution_count": 2,
   "metadata": {},
   "outputs": [],
   "source": [
    "def dilation(image, mask):\n",
    "    output = image         # dilation output\n",
    "    mask_res = []\n",
    "    va = (mask.shape[1] - 1)/2\n",
    "    image_padded = np.zeros((image.shape[0] + (mask.shape[1]-1), image.shape[1] + (mask.shape[1]-1)))   \n",
    "    image_padded[int(va):int(-va), int(va):int(-va)] = image\n",
    "    sometrue = False\n",
    "\n",
    "    \n",
    "    for x in range(image.shape[1]):     # Loop over every pixel of the image\n",
    "        for y in range(image.shape[0]):\n",
    "            for xmask in range(mask.shape[1]):\n",
    "                for ymask in range(mask.shape[0]):\n",
    "                    if image_padded[y+ymask, x+xmask] ==  mask[ymask,xmask]:\n",
    "                        sometrue= True\n",
    "            if sometrue == True:\n",
    "                output[y,x] = 255\n",
    "            else: \n",
    "                output[y,x] = 0\n",
    "            sometrue= False\n",
    "            \n",
    "\n",
    "    return output\n",
    "\n",
    "def erosion(image, mask):\n",
    "    output = image         # dilation output\n",
    "    alltrue = True\n",
    "\n",
    "    for x in range(image.shape[1]-mask.shape[1]):     # Loop over every pixel of the image\n",
    "        for y in range(image.shape[0]-mask.shape[0]):\n",
    "            \n",
    "            for xmask in range(mask.shape[1]):\n",
    "                for ymask in range(mask.shape[0]):\n",
    "                    if image[y+ymask, x+xmask] !=  mask[ymask,xmask]:\n",
    "                        alltrue= False\n",
    "            if alltrue == True:\n",
    "                 output[y,x] = 255\n",
    "            else: \n",
    "                 output[y,x] = 0\n",
    "            alltrue= True\n",
    "    return output"
   ]
  },
  {
   "cell_type": "code",
   "execution_count": 3,
   "metadata": {},
   "outputs": [
    {
     "data": {
      "image/png": "[encoded data removed]",
      "text/plain": [
       "<Figure size 432x288 with 1 Axes>"
      ]
     },
     "metadata": {
      "needs_background": "light"
     },
     "output_type": "display_data"
    }
   ],
   "source": [
    "bin1=Image.open(\"../img/bin4.png\").convert(\"L\") #Open the image and convert to gray scale \n",
    "bin2=Image.open(\"../img/bin4.png\").convert(\"L\") #Open the image and convert to gray scale \n",
    "bin_arr1 = np.asarray(bin1,np.uint) #converts the image to an Numpy Array\n",
    "bin_arr2 = np.asarray(bin2,np.uint) #converts the image to an Numpy Array\n",
    "\n",
    "plt.imshow(bin_arr1,cmap=plt.cm.gray)\n",
    "plt.axis('off')\n",
    "plt.show()\n"
   ]
  },
  {
   "cell_type": "code",
   "execution_count": 4,
   "metadata": {},
   "outputs": [
    {
     "data": {
      "image/png": "[encoded data removed]",
      "text/plain": [
       "<Figure size 432x288 with 1 Axes>"
      ]
     },
     "metadata": {
      "needs_background": "light"
     },
     "output_type": "display_data"
    }
   ],
   "source": [
    "mask = np.array([[255,255,255],[255,255,255],[255,255,255]])\n",
    "new_image = dilation(bin_arr2, mask)\n",
    "\n",
    "plt.imshow(new_image, cmap=plt.cm.gray)\n",
    "plt.axis('off')\n",
    "plt.show()"
   ]
  },
  {
   "cell_type": "code",
   "execution_count": 5,
   "metadata": {},
   "outputs": [
    {
     "data": {
      "image/png": "[encoded data removed]",
      "text/plain": [
       "<Figure size 432x288 with 1 Axes>"
      ]
     },
     "metadata": {
      "needs_background": "light"
     },
     "output_type": "display_data"
    }
   ],
   "source": [
    "new_image2 = erosion(bin_arr1, mask)\n",
    "plt.imshow(new_image2, cmap=plt.cm.gray)\n",
    "plt.axis('off')\n",
    "plt.show()\n"
   ]
  }
 ],
 "metadata": {
  "kernelspec": {
   "display_name": "Python 3",
   "language": "python",
   "name": "python3"
  },
  "language_info": {
   "codemirror_mode": {
    "name": "ipython",
    "version": 3
   },
   "file_extension": ".py",
   "mimetype": "text/x-python",
   "name": "python",
   "nbconvert_exporter": "python",
   "pygments_lexer": "ipython3",
   "version": "3.7.3"
  }
 },
 "nbformat": 4,
 "nbformat_minor": 4
}
