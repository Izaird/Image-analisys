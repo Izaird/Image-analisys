{
 "cells": [
  {
   "cell_type": "markdown",
   "metadata": {},
   "source": [
    "<img src=\"img/logo.jpg\" alt=\"header\" style=\"height:200px;\">\n",
    "<h1><center>Practica 2 Resizing</center></h1>\n",
    "<h3>Alumno: Mothelet Delgado Izaird Alexander</h3>\n",
    "<h3>Boleta: 2012010743</h3>\n",
    "<h3>Grupo: 3CV7</h3>\n",
    "<h2><center><b>Introducción</b></center></h2>\n",
    "<p>Cambiar el tamaño de una imagen es una herramienta bastante util ya que nos permite ajustar esta a nuestras necesidades, aunque este proceso necesita de varios pasos para ser realizado. Tales como muestreo, cuantización, etc. Hablaremos de todos pasos en profundidad.</p>\n",
    "\n",
    "<h2>Muestreo</h2>\n",
    "\n",
    "\n"
   ]
  },
  {
   "cell_type": "code",
   "execution_count": null,
   "metadata": {},
   "outputs": [],
   "source": []
  }
 ],
 "metadata": {
  "kernelspec": {
   "display_name": "Python 3",
   "language": "python",
   "name": "python3"
  },
  "language_info": {
   "codemirror_mode": {
    "name": "ipython",
    "version": 3
   },
   "file_extension": ".py",
   "mimetype": "text/x-python",
   "name": "python",
   "nbconvert_exporter": "python",
   "pygments_lexer": "ipython3",
   "version": "3.7.3"
  }
 },
 "nbformat": 4,
 "nbformat_minor": 4
}
