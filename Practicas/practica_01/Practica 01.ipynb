{
 "cells": [
  {
   "cell_type": "markdown",
   "metadata": {},
   "source": [
    "<img src=\"img/header_escom26.jpg\" alt=\"header\" style=\"height:200px;\">\n",
    "\n",
    "# Otsu's method\n",
    "**Mothelet Delgado Izaird Alexander**\n",
    "\n",
    "\n"
   ]
  },
  {
   "cell_type": "markdown",
   "metadata": {},
   "source": [
    "Es un metodo creado para la binarizacion mediante la obtencion de un umbral optimo.\n",
    "Para ello se calcula el cociente entre ambas variancias y se busca un valor umbral para el que este cociente sea máximo.\n",
    "Lo primero que tenemos que hacer es importar las librearias que ocuparemos como numpy"
   ]
  },
  {
   "cell_type": "code",
   "execution_count": 31,
   "metadata": {},
   "outputs": [],
   "source": [
    "import math\n",
    "import numpy as np\n",
    "from matplotlib import pyplot as plt\n",
    "from PIL import Image"
   ]
  },
  {
   "cell_type": "markdown",
   "metadata": {},
   "source": [
    "Ahora crearemos algunas funciones para hacer todo esto mas sencillo, de las primeras funciones que necesitamos es para mostrar el histograma, recrear la imagen con el umbral ya obtenido despues de haber aplicado el metodo otsu"
   ]
  },
  {
   "cell_type": "code",
   "execution_count": 32,
   "metadata": {},
   "outputs": [],
   "source": [
    "def Hist(img):\n",
    "   row, col = img.shape \n",
    "   y = np.zeros(256)\n",
    "   for i in range(0,row):\n",
    "      for j in range(0,col):\n",
    "         y[img[i,j]] += 1\n",
    "   x = np.arange(0,256)\n",
    "   plt.bar(x, y, color='b', width=5, align='center', alpha=0.25)\n",
    "   plt.show()\n",
    "   return y\n",
    "\n",
    "\n",
    "\n",
    "def regenerate_img(img, threshold):\n",
    "    row, col = img.shape \n",
    "    y = np.zeros((row, col))\n",
    "    for i in range(0,row):\n",
    "        for j in range(0,col):\n",
    "            if img[i,j] >= threshold:\n",
    "                y[i,j] = 255\n",
    "            else:\n",
    "                y[i,j] = 0\n",
    "    return y\n",
    "\n",
    "\n",
    "   \n",
    "def countPixel(h):\n",
    "    cnt = 0\n",
    "    for i in range(0, len(h)):\n",
    "        if h[i]>0:\n",
    "           cnt += h[i]\n",
    "    return cnt\n",
    "\n",
    "\n",
    "def wieght(s, e):\n",
    "    w = 0\n",
    "    for i in range(s, e):\n",
    "        w += h[i]\n",
    "    return w\n",
    "\n",
    "\n",
    "def mean(s, e):\n",
    "    m = 0\n",
    "    w = wieght(s, e)\n",
    "    for i in range(s, e):\n",
    "        m += h[i] * i\n",
    "    \n",
    "    return m/float(w)\n",
    "\n",
    "\n",
    "def variance(s, e):\n",
    "    v = 0\n",
    "    m = mean(s, e)\n",
    "    w = wieght(s, e)\n",
    "    for i in range(s, e):\n",
    "        v += ((i - m) **2) * h[i]\n",
    "    v /= w\n",
    "    return v\n",
    "            \n",
    "\n",
    "def threshold(h):\n",
    "    cnt = countPixel(h)\n",
    "    for i in range(1, len(h)):\n",
    "        vb = variance(0, i)\n",
    "        wb = wieght(0, i) / float(cnt)\n",
    "        mb = mean(0, i)\n",
    "        \n",
    "        vf = variance(i, len(h))\n",
    "        wf = wieght(i, len(h)) / float(cnt)\n",
    "        mf = mean(i, len(h))\n",
    "        \n",
    "        V2w = wb * (vb) + wf * (vf)\n",
    "        V2b = wb * wf * (mb - mf)**2\n",
    "        \n",
    "        fw = open(\"trace.txt\", \"a\")\n",
    "        fw.write('T='+ str(i) + \"\\n\")\n",
    "\n",
    "        fw.write('Wb='+ str(wb) + \"\\n\")\n",
    "        fw.write('Mb='+ str(mb) + \"\\n\")\n",
    "        fw.write('Vb='+ str(vb) + \"\\n\")\n",
    "        \n",
    "        fw.write('Wf='+ str(wf) + \"\\n\")\n",
    "        fw.write('Mf='+ str(mf) + \"\\n\")\n",
    "        fw.write('Vf='+ str(vf) + \"\\n\")\n",
    "\n",
    "        fw.write('within class variance='+ str(V2w) + \"\\n\")\n",
    "        fw.write('between class variance=' + str(V2b) + \"\\n\")\n",
    "        fw.write(\"\\n\")\n",
    "        \n",
    "        if not math.isnan(V2w):\n",
    "            threshold_values[i] = V2w\n",
    "\n",
    "\n",
    "def get_optimal_threshold():\n",
    "    min_V2w = min(threshold_values.values())\n",
    "    optimal_threshold = [k for k, v in threshold_values.items() if v == min_V2w]\n",
    "    print('optimal threshold', optimal_threshold[0])\n",
    "    return optimal_threshold[0]\n",
    "\n",
    "threshold_values = {}\n"
   ]
  },
  {
   "cell_type": "markdown",
   "metadata": {},
   "source": [
    "Una vez que tenemos construidas nuestras funciones procedemos a simplemente usar todo lo anterior"
   ]
  },
  {
   "cell_type": "code",
   "execution_count": 33,
   "metadata": {},
   "outputs": [
    {
     "data": {
      "image/png": "[encoded data removed]",
      "text/plain": [
       "<Figure size 432x288 with 1 Axes>"
      ]
     },
     "metadata": {
      "needs_background": "light"
     },
     "output_type": "display_data"
    },
    {
     "name": "stdout",
     "output_type": "stream",
     "text": [
      "optimal threshold 153\n",
      "CPU times: user 70 µs, sys: 2 µs, total: 72 µs\n",
      "Wall time: 73.2 µs\n",
      "CPU times: user 929 ms, sys: 29 µs, total: 929 ms\n",
      "Wall time: 929 ms\n"
     ]
    },
    {
     "data": {
      "image/png": "[encoded data removed]",
      "text/plain": [
       "<Figure size 432x288 with 1 Axes>"
      ]
     },
     "metadata": {
      "needs_background": "light"
     },
     "output_type": "display_data"
    }
   ],
   "source": [
    "image = Image.open('img/img1.jpg').convert(\"L\")\n",
    "img = np.asarray(image)\n",
    "\n",
    "h = Hist(img)\n",
    "threshold(h)\n",
    "%time op_thres = get_optimal_threshold()\n",
    "\n",
    "%time res = regenerate_img(img, op_thres)\n",
    "plt.imshow(res)\n",
    "plt.savefig(\"otsu.png\")"
   ]
  }
 ],
 "metadata": {
  "kernelspec": {
   "display_name": "Python 3",
   "language": "python",
   "name": "python3"
  },
  "language_info": {
   "codemirror_mode": {
    "name": "ipython",
    "version": 3
   },
   "file_extension": ".py",
   "mimetype": "text/x-python",
   "name": "python",
   "nbconvert_exporter": "python",
   "pygments_lexer": "ipython3",
   "version": "3.7.3"
  }
 },
 "nbformat": 4,
 "nbformat_minor": 4
}
