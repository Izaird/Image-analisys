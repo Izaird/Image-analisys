{
 "cells": [
  {
   "cell_type": "code",
   "execution_count": 1,
   "metadata": {},
   "outputs": [],
   "source": [
    "import math\n",
    "import numpy as np\n",
    "from matplotlib import pyplot as plt\n",
    "from PIL import Image\n",
    "import pylab\n",
    "\n",
    "%matplotlib inline\n",
    "%load_ext cython\n"
   ]
  },
  {
   "cell_type": "code",
   "execution_count": 2,
   "metadata": {},
   "outputs": [],
   "source": [
    "def Distance8(picArr1):#asumimos que ambas imagenes son del mismo tamaño\n",
    "    orx = 1\n",
    "    ory = 1\n",
    "    H = picArr1.shape[0]\n",
    "    W = picArr1.shape[1]\n",
    "    maskCruz3 = np.array([[255, 255, 255],\n",
    "             [255, 255, 1],\n",
    "             [1, 1, 1]],np.intc)\n",
    "    maskCruz4 = np.array([[1, 1, 1],\n",
    "                [1, 255, 255],\n",
    "             [255, 255, 255]],np.intc)\n",
    "    maskHeight = maskCruz3.shape[0]\n",
    "    maskWidth = maskCruz3.shape[1]\n",
    "    tampadH = H + ( 2 * orx )\n",
    "    tampadW = W + ( 2 * ory )\n",
    "    b = np.zeros((tampadH , tampadW ) , np.intc)\n",
    "    b [1:H+1, 1:W+1] = picArr1\n",
    "    \n",
    "    #Creamos una matriz auxiliar, sera una copia del arreglo que tomamos como input pero con un marco alrededor\n",
    "    #El marco debe ser suficientemente grande para poder realizar las operaciones sin conflictos\n",
    "    #El marco se llena con ceros para que no afecte nuestras operaciones\n",
    "    \n",
    "    #forward propagation\n",
    "    for i in range(1,H-1 ):\n",
    "        for j in range(1, W-1 ):\n",
    "            if(b[i][j]>0):\n",
    "                aux = maskCruz4 + b[i-1:i+maskHeight-1, j-1:j+maskWidth-1]\n",
    "                #print( i,j,aux )\n",
    "                b[i][j] = np.amin( aux )\n",
    "    \n",
    "    #backward propagation\n",
    "    for i in range(H-1,1, -1 ):\n",
    "        for j in range(W-1, 1,-1 ):\n",
    "            if(b[i][j]>0):\n",
    "                aux = maskCruz3 + b[i-1:i+maskHeight-1, j-1:j+maskWidth-1]\n",
    "                #print( aux )\n",
    "                b[i][j] = min(b[i][j], np.amin( aux ) )\n",
    "    \n",
    "    return b\n",
    "\n",
    "def Distance4(picArr1):#asumimos que ambas imagenes son del mismo tamaño\n",
    "    orx = 1\n",
    "    ory = 1\n",
    "    H = picArr1.shape[0]\n",
    "    W = picArr1.shape[1]\n",
    "    maskCruz3 = np.array([[255, 255, 255],\n",
    "             [255, 255, 1],\n",
    "             [255, 1, 255]],np.intc)\n",
    "    maskCruz4 = np.array([[255, 1, 255],\n",
    "             [1, 255, 255],\n",
    "             [255, 255, 255]],np.intc)\n",
    "    maskHeight = maskCruz3.shape[0]\n",
    "    maskWidth = maskCruz3.shape[1]\n",
    "    tampadH = H + ( 2 * orx )\n",
    "    tampadW = W + ( 2 * ory )\n",
    "    b = np.zeros((tampadH , tampadW ) , np.intc)\n",
    "    b [1:H+1, 1:W+1] = picArr1\n",
    "    \n",
    "    #Creamos una matriz auxiliar, sera una copia del arreglo que tomamos como input pero con un marco alrededor\n",
    "    #El marco debe ser suficientemente grande para poder realizar las operaciones sin conflictos\n",
    "    #El marco se llena con ceros para que no afecte nuestras operaciones\n",
    "    \n",
    "    #forward propagation\n",
    "    for i in range(1,H-1 ):\n",
    "        for j in range(1, W-1 ):\n",
    "            if(b[i][j]>0):\n",
    "                aux = maskCruz4 + b[i-1:i+maskHeight-1, j-1:j+maskWidth-1]\n",
    "                #print( i,j,aux )\n",
    "                b[i][j] = np.amin( aux )\n",
    "    \n",
    "    #backward propagation\n",
    "    for i in range(H-1,1, -1 ):\n",
    "        for j in range(W-1, 1,-1 ):\n",
    "            if(b[i][j]>0):\n",
    "                aux = maskCruz3 + b[i-1:i+maskHeight-1, j-1:j+maskWidth-1]\n",
    "                #print( aux )\n",
    "                b[i][j] = min(b[i][j], np.amin( aux ) )\n",
    "    \n",
    "    return b"
   ]
  },
  {
   "cell_type": "code",
   "execution_count": 5,
   "metadata": {},
   "outputs": [
    {
     "data": {
      "image/png": "[encoded data removed]",
      "text/plain": [
       "<Figure size 432x288 with 1 Axes>"
      ]
     },
     "metadata": {
      "needs_background": "light"
     },
     "output_type": "display_data"
    }
   ],
   "source": [
    "bin1=Image.open(\"../img/bin3.png\").convert(\"L\") #Open the image and convert to gray scale \n",
    "bin2=Image.open(\"../img/bin4.png\").convert(\"L\") #Open the image and convert to gray scale \n",
    "bin_arr1 = np.asarray(bin1,np.intc) #converts the image to an Numpy Array\n",
    "bin_arr2 = np.asarray(bin2,np.intc) #converts the image to an Numpy Array\n",
    "\n",
    "plt.imshow(bin_arr1,cmap=plt.cm.gray)\n",
    "plt.axis('off')\n",
    "plt.show()\n"
   ]
  },
  {
   "cell_type": "code",
   "execution_count": 7,
   "metadata": {},
   "outputs": [
    {
     "data": {
      "image/png": "[encoded data removed]",
      "text/plain": [
       "<Figure size 432x288 with 1 Axes>"
      ]
     },
     "metadata": {
      "needs_background": "light"
     },
     "output_type": "display_data"
    }
   ],
   "source": [
    "new_image = DistanciaBin4(bin_arr1)\n",
    "\n",
    "plt.imshow(new_image, cmap=plt.cm.gray)\n",
    "plt.axis('off')\n",
    "plt.show()"
   ]
  }
 ],
 "metadata": {
  "kernelspec": {
   "display_name": "Python 3",
   "language": "python",
   "name": "python3"
  },
  "language_info": {
   "codemirror_mode": {
    "name": "ipython",
    "version": 3
   },
   "file_extension": ".py",
   "mimetype": "text/x-python",
   "name": "python",
   "nbconvert_exporter": "python",
   "pygments_lexer": "ipython3",
   "version": "3.7.4"
  }
 },
 "nbformat": 4,
 "nbformat_minor": 4
}
