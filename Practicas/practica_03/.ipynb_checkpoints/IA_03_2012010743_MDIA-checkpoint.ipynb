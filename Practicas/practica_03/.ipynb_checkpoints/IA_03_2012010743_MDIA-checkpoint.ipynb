{
 "cells": [
  {
   "cell_type": "markdown",
   "metadata": {},
   "source": [
    "<img src=\"img/logo.jpg\" alt=\"header\" style=\"height:200px;\">\n",
    "<h1><center>Practica 3 Image Algebra</center></h1>\n",
    "<h3><b>Alumno:</b> Mothelet Delgado Izaird Alexander</h3>\n",
    "<h3><b>Boleta:</b> 2012010743</h3>\n",
    "<h3><b>Grupo:</b> 3CV7</h3>\n",
    "<h2><center><b>Introducción</b></center></h2>"
   ]
  }
 ],
 "metadata": {
  "kernelspec": {
   "display_name": "Python 3",
   "language": "python",
   "name": "python3"
  },
  "language_info": {
   "codemirror_mode": {
    "name": "ipython",
    "version": 3
   },
   "file_extension": ".py",
   "mimetype": "text/x-python",
   "name": "python",
   "nbconvert_exporter": "python",
   "pygments_lexer": "ipython3",
   "version": "3.7.3"
  }
 },
 "nbformat": 4,
 "nbformat_minor": 4
}
